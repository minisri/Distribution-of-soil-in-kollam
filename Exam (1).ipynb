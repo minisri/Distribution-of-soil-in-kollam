{
 "cells": [
  {
   "cell_type": "markdown",
   "metadata": {},
   "source": [
    "# Advance Data Analytics assignment "
   ]
  },
  {
   "cell_type": "markdown",
   "metadata": {},
   "source": [
    "# Submitted by- Anushka Srivastava"
   ]
  },
  {
   "cell_type": "markdown",
   "metadata": {},
   "source": [
    "# Import the libraries"
   ]
  },
  {
   "cell_type": "code",
   "execution_count": 1,
   "metadata": {},
   "outputs": [],
   "source": [
    "import numpy as np\n",
    "import pandas as pd\n",
    "import matplotlib.pyplot as plt\n",
    "import seaborn as sns\n",
    "import researchpy as rp\n",
    "import statsmodels.api as sm\n",
    "from statsmodels.formula.api import ols"
   ]
  },
  {
   "cell_type": "markdown",
   "metadata": {},
   "source": [
    "# Load the data"
   ]
  },
  {
   "cell_type": "code",
   "execution_count": 2,
   "metadata": {},
   "outputs": [],
   "source": [
    "df=pd.read_csv(r'C:\\Users\\ananyya srivastava\\Desktop\\soil-Data-kollamcsv1.csv')"
   ]
  },
  {
   "cell_type": "code",
   "execution_count": 3,
   "metadata": {},
   "outputs": [
    {
     "data": {
      "text/html": [
       "<div>\n",
       "<style scoped>\n",
       "    .dataframe tbody tr th:only-of-type {\n",
       "        vertical-align: middle;\n",
       "    }\n",
       "\n",
       "    .dataframe tbody tr th {\n",
       "        vertical-align: top;\n",
       "    }\n",
       "\n",
       "    .dataframe thead th {\n",
       "        text-align: right;\n",
       "    }\n",
       "</style>\n",
       "<table border=\"1\" class=\"dataframe\">\n",
       "  <thead>\n",
       "    <tr style=\"text-align: right;\">\n",
       "      <th></th>\n",
       "      <th>District</th>\n",
       "      <th>Block</th>\n",
       "      <th>Panchayath</th>\n",
       "      <th>SampleCode</th>\n",
       "      <th>FarmerName</th>\n",
       "      <th>f_sex</th>\n",
       "      <th>f_surveyno</th>\n",
       "      <th>f_latitude</th>\n",
       "      <th>f_longitude</th>\n",
       "      <th>f_panchayat</th>\n",
       "      <th>...</th>\n",
       "      <th>Soil_P</th>\n",
       "      <th>Soil_k</th>\n",
       "      <th>Soil_Ca</th>\n",
       "      <th>Soil_Mg</th>\n",
       "      <th>Soil_s</th>\n",
       "      <th>Soil_Zn</th>\n",
       "      <th>Soil_b</th>\n",
       "      <th>Soil_Fe</th>\n",
       "      <th>Soil_Cu</th>\n",
       "      <th>Soil_Mn</th>\n",
       "    </tr>\n",
       "  </thead>\n",
       "  <tbody>\n",
       "    <tr>\n",
       "      <th>0</th>\n",
       "      <td>Kollam</td>\n",
       "      <td>Anchal Block</td>\n",
       "      <td>Alayamon</td>\n",
       "      <td>KLM/PTP/AYM/741/1/320/235225</td>\n",
       "      <td>Praksh Kumar.P</td>\n",
       "      <td>male</td>\n",
       "      <td>741/1/320</td>\n",
       "      <td>8.87641</td>\n",
       "      <td>76.9707</td>\n",
       "      <td>84.0</td>\n",
       "      <td>...</td>\n",
       "      <td>7.413</td>\n",
       "      <td>237.6</td>\n",
       "      <td>305.15</td>\n",
       "      <td>10.610</td>\n",
       "      <td>0.000</td>\n",
       "      <td>1.575</td>\n",
       "      <td>0.05310</td>\n",
       "      <td>14.860</td>\n",
       "      <td>2.3090</td>\n",
       "      <td>14.80</td>\n",
       "    </tr>\n",
       "    <tr>\n",
       "      <th>1</th>\n",
       "      <td>Kollam</td>\n",
       "      <td>Anchal Block</td>\n",
       "      <td>Alayamon</td>\n",
       "      <td>KLM/PTP/AYM/745/12541/235226</td>\n",
       "      <td>Vasanthakumari</td>\n",
       "      <td>female</td>\n",
       "      <td>745/12541</td>\n",
       "      <td>8.87658</td>\n",
       "      <td>76.97127</td>\n",
       "      <td>84.0</td>\n",
       "      <td>...</td>\n",
       "      <td>16.980</td>\n",
       "      <td>215.6</td>\n",
       "      <td>667.00</td>\n",
       "      <td>11.300</td>\n",
       "      <td>0.000</td>\n",
       "      <td>1.859</td>\n",
       "      <td>0.02656</td>\n",
       "      <td>11.060</td>\n",
       "      <td>1.0710</td>\n",
       "      <td>47.54</td>\n",
       "    </tr>\n",
       "    <tr>\n",
       "      <th>2</th>\n",
       "      <td>Kollam</td>\n",
       "      <td>Anchal Block</td>\n",
       "      <td>Alayamon</td>\n",
       "      <td>KLM/PTP/AYM/745/1/2541/235227</td>\n",
       "      <td>Radhakrishnapillai</td>\n",
       "      <td>male</td>\n",
       "      <td>745/1/2541</td>\n",
       "      <td>8.87689</td>\n",
       "      <td>76.97153</td>\n",
       "      <td>84.0</td>\n",
       "      <td>...</td>\n",
       "      <td>2.631</td>\n",
       "      <td>102.3</td>\n",
       "      <td>606.00</td>\n",
       "      <td>11.675</td>\n",
       "      <td>0.000</td>\n",
       "      <td>0.790</td>\n",
       "      <td>0.04194</td>\n",
       "      <td>9.132</td>\n",
       "      <td>1.1210</td>\n",
       "      <td>39.62</td>\n",
       "    </tr>\n",
       "    <tr>\n",
       "      <th>3</th>\n",
       "      <td>Kollam</td>\n",
       "      <td>Anchal Block</td>\n",
       "      <td>Alayamon</td>\n",
       "      <td>KLM/PTP/AYM/745/1/235228</td>\n",
       "      <td>Chandrabose</td>\n",
       "      <td>male</td>\n",
       "      <td>745/1</td>\n",
       "      <td>8.87694</td>\n",
       "      <td>76.97161</td>\n",
       "      <td>84.0</td>\n",
       "      <td>...</td>\n",
       "      <td>14.340</td>\n",
       "      <td>298.1</td>\n",
       "      <td>1045.00</td>\n",
       "      <td>12.710</td>\n",
       "      <td>1.973</td>\n",
       "      <td>1.408</td>\n",
       "      <td>0.18174</td>\n",
       "      <td>10.180</td>\n",
       "      <td>1.2570</td>\n",
       "      <td>59.96</td>\n",
       "    </tr>\n",
       "    <tr>\n",
       "      <th>4</th>\n",
       "      <td>Kollam</td>\n",
       "      <td>Anchal Block</td>\n",
       "      <td>Alayamon</td>\n",
       "      <td>KLM/PTP/AYM/745/1/2539/235229</td>\n",
       "      <td>Usha Chandran</td>\n",
       "      <td>female</td>\n",
       "      <td>745/1/2539</td>\n",
       "      <td>8.87639</td>\n",
       "      <td>76.97159</td>\n",
       "      <td>84.0</td>\n",
       "      <td>...</td>\n",
       "      <td>46.869</td>\n",
       "      <td>205.7</td>\n",
       "      <td>2441.50</td>\n",
       "      <td>11.790</td>\n",
       "      <td>0.603</td>\n",
       "      <td>1.870</td>\n",
       "      <td>0.09506</td>\n",
       "      <td>14.350</td>\n",
       "      <td>0.8107</td>\n",
       "      <td>76.34</td>\n",
       "    </tr>\n",
       "  </tbody>\n",
       "</table>\n",
       "<p>5 rows × 33 columns</p>\n",
       "</div>"
      ],
      "text/plain": [
       "  District         Block Panchayath                     SampleCode  \\\n",
       "0   Kollam  Anchal Block   Alayamon   KLM/PTP/AYM/741/1/320/235225   \n",
       "1   Kollam  Anchal Block   Alayamon   KLM/PTP/AYM/745/12541/235226   \n",
       "2   Kollam  Anchal Block   Alayamon  KLM/PTP/AYM/745/1/2541/235227   \n",
       "3   Kollam  Anchal Block   Alayamon       KLM/PTP/AYM/745/1/235228   \n",
       "4   Kollam  Anchal Block   Alayamon  KLM/PTP/AYM/745/1/2539/235229   \n",
       "\n",
       "           FarmerName   f_sex  f_surveyno f_latitude f_longitude  f_panchayat  \\\n",
       "0      Praksh Kumar.P    male   741/1/320    8.87641     76.9707         84.0   \n",
       "1      Vasanthakumari  female   745/12541    8.87658    76.97127         84.0   \n",
       "2  Radhakrishnapillai    male  745/1/2541    8.87689    76.97153         84.0   \n",
       "3         Chandrabose    male       745/1    8.87694    76.97161         84.0   \n",
       "4       Usha Chandran  female  745/1/2539    8.87639    76.97159         84.0   \n",
       "\n",
       "    ...     Soil_P  Soil_k  Soil_Ca  Soil_Mg Soil_s Soil_Zn   Soil_b Soil_Fe  \\\n",
       "0   ...      7.413   237.6   305.15   10.610  0.000   1.575  0.05310  14.860   \n",
       "1   ...     16.980   215.6   667.00   11.300  0.000   1.859  0.02656  11.060   \n",
       "2   ...      2.631   102.3   606.00   11.675  0.000   0.790  0.04194   9.132   \n",
       "3   ...     14.340   298.1  1045.00   12.710  1.973   1.408  0.18174  10.180   \n",
       "4   ...     46.869   205.7  2441.50   11.790  0.603   1.870  0.09506  14.350   \n",
       "\n",
       "   Soil_Cu  Soil_Mn  \n",
       "0   2.3090    14.80  \n",
       "1   1.0710    47.54  \n",
       "2   1.1210    39.62  \n",
       "3   1.2570    59.96  \n",
       "4   0.8107    76.34  \n",
       "\n",
       "[5 rows x 33 columns]"
      ]
     },
     "execution_count": 3,
     "metadata": {},
     "output_type": "execute_result"
    }
   ],
   "source": [
    "df.head()"
   ]
  },
  {
   "cell_type": "code",
   "execution_count": 4,
   "metadata": {},
   "outputs": [
    {
     "data": {
      "text/plain": [
       "District         4048\n",
       "Block            4048\n",
       "Panchayath       4048\n",
       "SampleCode       4048\n",
       "FarmerName       4048\n",
       "f_sex            4048\n",
       "f_surveyno       4048\n",
       "f_latitude       3861\n",
       "f_longitude      3861\n",
       "f_panchayat      4048\n",
       "f_district       4048\n",
       "f_taluk          4048\n",
       "f_block          4048\n",
       "f_mob_no          330\n",
       "SoilType         4048\n",
       "crop1            4048\n",
       "crop2            4048\n",
       "crop3            4048\n",
       "Soil_pH          4048\n",
       "Soil_ec          4050\n",
       "Unnamed: 20      4050\n",
       "Soil_OrganicC    4050\n",
       "Unnamed: 22      4050\n",
       "Soil_P           4048\n",
       "Soil_k           4048\n",
       "Soil_Ca          4048\n",
       "Soil_Mg          4048\n",
       "Soil_s           4048\n",
       "Soil_Zn          4048\n",
       "Soil_b           4048\n",
       "Soil_Fe          4048\n",
       "Soil_Cu          4048\n",
       "Soil_Mn          4048\n",
       "dtype: int64"
      ]
     },
     "execution_count": 4,
     "metadata": {},
     "output_type": "execute_result"
    }
   ],
   "source": [
    "df.count()"
   ]
  },
  {
   "cell_type": "code",
   "execution_count": 5,
   "metadata": {},
   "outputs": [
    {
     "name": "stdout",
     "output_type": "stream",
     "text": [
      "<class 'pandas.core.frame.DataFrame'>\n",
      "RangeIndex: 4050 entries, 0 to 4049\n",
      "Data columns (total 33 columns):\n",
      "District         4048 non-null object\n",
      "Block            4048 non-null object\n",
      "Panchayath       4048 non-null object\n",
      "SampleCode       4048 non-null object\n",
      "FarmerName       4048 non-null object\n",
      "f_sex            4048 non-null object\n",
      "f_surveyno       4048 non-null object\n",
      "f_latitude       3861 non-null object\n",
      "f_longitude      3861 non-null object\n",
      "f_panchayat      4048 non-null float64\n",
      "f_district       4048 non-null float64\n",
      "f_taluk          4048 non-null float64\n",
      "f_block          4048 non-null float64\n",
      "f_mob_no         330 non-null float64\n",
      "SoilType         4048 non-null object\n",
      "crop1            4048 non-null object\n",
      "crop2            4048 non-null object\n",
      "crop3            4048 non-null object\n",
      "Soil_pH          4048 non-null float64\n",
      "Soil_ec          4050 non-null float64\n",
      "Unnamed: 20      4050 non-null object\n",
      "Soil_OrganicC    4050 non-null float64\n",
      "Unnamed: 22      4050 non-null object\n",
      "Soil_P           4048 non-null float64\n",
      "Soil_k           4048 non-null float64\n",
      "Soil_Ca          4048 non-null float64\n",
      "Soil_Mg          4048 non-null float64\n",
      "Soil_s           4048 non-null float64\n",
      "Soil_Zn          4048 non-null float64\n",
      "Soil_b           4048 non-null float64\n",
      "Soil_Fe          4048 non-null float64\n",
      "Soil_Cu          4048 non-null float64\n",
      "Soil_Mn          4048 non-null float64\n",
      "dtypes: float64(18), object(15)\n",
      "memory usage: 1.0+ MB\n"
     ]
    }
   ],
   "source": [
    "df.info()"
   ]
  },
  {
   "cell_type": "code",
   "execution_count": 6,
   "metadata": {},
   "outputs": [
    {
     "name": "stdout",
     "output_type": "stream",
     "text": [
      "['District' 'Block' 'Panchayath' 'SampleCode' 'FarmerName' 'f_sex'\n",
      " 'f_surveyno' 'f_latitude' 'f_longitude' 'f_panchayat' 'f_district'\n",
      " 'f_taluk' 'f_block' 'f_mob_no' 'SoilType' 'crop1' 'crop2' 'crop3'\n",
      " 'Soil_pH' 'Soil_ec' 'Unnamed: 20' 'Soil_OrganicC' 'Unnamed: 22' 'Soil_P'\n",
      " 'Soil_k' 'Soil_Ca' 'Soil_Mg' 'Soil_s' 'Soil_Zn' 'Soil_b' 'Soil_Fe'\n",
      " 'Soil_Cu' 'Soil_Mn']\n"
     ]
    }
   ],
   "source": [
    "print(df.columns.values)"
   ]
  },
  {
   "cell_type": "code",
   "execution_count": 7,
   "metadata": {},
   "outputs": [
    {
     "data": {
      "text/html": [
       "<div>\n",
       "<style scoped>\n",
       "    .dataframe tbody tr th:only-of-type {\n",
       "        vertical-align: middle;\n",
       "    }\n",
       "\n",
       "    .dataframe tbody tr th {\n",
       "        vertical-align: top;\n",
       "    }\n",
       "\n",
       "    .dataframe thead th {\n",
       "        text-align: right;\n",
       "    }\n",
       "</style>\n",
       "<table border=\"1\" class=\"dataframe\">\n",
       "  <thead>\n",
       "    <tr style=\"text-align: right;\">\n",
       "      <th></th>\n",
       "      <th>f_panchayat</th>\n",
       "      <th>f_district</th>\n",
       "      <th>f_taluk</th>\n",
       "      <th>f_block</th>\n",
       "      <th>f_mob_no</th>\n",
       "      <th>Soil_pH</th>\n",
       "      <th>Soil_ec</th>\n",
       "      <th>Soil_OrganicC</th>\n",
       "      <th>Soil_P</th>\n",
       "      <th>Soil_k</th>\n",
       "      <th>Soil_Ca</th>\n",
       "      <th>Soil_Mg</th>\n",
       "      <th>Soil_s</th>\n",
       "      <th>Soil_Zn</th>\n",
       "      <th>Soil_b</th>\n",
       "      <th>Soil_Fe</th>\n",
       "      <th>Soil_Cu</th>\n",
       "      <th>Soil_Mn</th>\n",
       "    </tr>\n",
       "  </thead>\n",
       "  <tbody>\n",
       "    <tr>\n",
       "      <th>count</th>\n",
       "      <td>4048.000000</td>\n",
       "      <td>4048.0</td>\n",
       "      <td>4048.000000</td>\n",
       "      <td>4048.000000</td>\n",
       "      <td>3.300000e+02</td>\n",
       "      <td>4048.000000</td>\n",
       "      <td>4050.000000</td>\n",
       "      <td>4050.000000</td>\n",
       "      <td>4048.000000</td>\n",
       "      <td>4048.000000</td>\n",
       "      <td>4048.000000</td>\n",
       "      <td>4048.000000</td>\n",
       "      <td>4048.000000</td>\n",
       "      <td>4048.000000</td>\n",
       "      <td>4048.000000</td>\n",
       "      <td>4048.000000</td>\n",
       "      <td>4048.00000</td>\n",
       "      <td>4048.000000</td>\n",
       "    </tr>\n",
       "    <tr>\n",
       "      <th>mean</th>\n",
       "      <td>122.177125</td>\n",
       "      <td>2.0</td>\n",
       "      <td>6.690217</td>\n",
       "      <td>24.579792</td>\n",
       "      <td>9.384199e+09</td>\n",
       "      <td>5.846287</td>\n",
       "      <td>0.358561</td>\n",
       "      <td>1.797981</td>\n",
       "      <td>67.424614</td>\n",
       "      <td>192.167437</td>\n",
       "      <td>417.904146</td>\n",
       "      <td>24.666415</td>\n",
       "      <td>3.363671</td>\n",
       "      <td>3.217135</td>\n",
       "      <td>0.528337</td>\n",
       "      <td>49.656148</td>\n",
       "      <td>1.23289</td>\n",
       "      <td>22.079388</td>\n",
       "    </tr>\n",
       "    <tr>\n",
       "      <th>std</th>\n",
       "      <td>22.751969</td>\n",
       "      <td>0.0</td>\n",
       "      <td>0.737893</td>\n",
       "      <td>4.364429</td>\n",
       "      <td>9.849650e+08</td>\n",
       "      <td>0.725837</td>\n",
       "      <td>11.415572</td>\n",
       "      <td>57.194304</td>\n",
       "      <td>51.812779</td>\n",
       "      <td>231.068588</td>\n",
       "      <td>527.234144</td>\n",
       "      <td>54.907931</td>\n",
       "      <td>4.760118</td>\n",
       "      <td>5.389476</td>\n",
       "      <td>0.516771</td>\n",
       "      <td>85.566393</td>\n",
       "      <td>6.73168</td>\n",
       "      <td>28.507297</td>\n",
       "    </tr>\n",
       "    <tr>\n",
       "      <th>min</th>\n",
       "      <td>84.000000</td>\n",
       "      <td>2.0</td>\n",
       "      <td>5.000000</td>\n",
       "      <td>18.000000</td>\n",
       "      <td>9.495645e+08</td>\n",
       "      <td>0.900000</td>\n",
       "      <td>0.000000</td>\n",
       "      <td>0.000000</td>\n",
       "      <td>0.000000</td>\n",
       "      <td>0.000000</td>\n",
       "      <td>0.000000</td>\n",
       "      <td>0.000000</td>\n",
       "      <td>0.000000</td>\n",
       "      <td>0.000000</td>\n",
       "      <td>0.000000</td>\n",
       "      <td>0.000000</td>\n",
       "      <td>0.00000</td>\n",
       "      <td>0.000000</td>\n",
       "    </tr>\n",
       "    <tr>\n",
       "      <th>25%</th>\n",
       "      <td>98.000000</td>\n",
       "      <td>2.0</td>\n",
       "      <td>6.000000</td>\n",
       "      <td>20.000000</td>\n",
       "      <td>9.446369e+09</td>\n",
       "      <td>5.360000</td>\n",
       "      <td>0.050000</td>\n",
       "      <td>0.546000</td>\n",
       "      <td>34.193750</td>\n",
       "      <td>95.000000</td>\n",
       "      <td>98.230000</td>\n",
       "      <td>11.228750</td>\n",
       "      <td>1.260000</td>\n",
       "      <td>0.830000</td>\n",
       "      <td>0.100600</td>\n",
       "      <td>11.800000</td>\n",
       "      <td>0.42000</td>\n",
       "      <td>7.597750</td>\n",
       "    </tr>\n",
       "    <tr>\n",
       "      <th>50%</th>\n",
       "      <td>116.000000</td>\n",
       "      <td>2.0</td>\n",
       "      <td>7.000000</td>\n",
       "      <td>23.000000</td>\n",
       "      <td>9.605574e+09</td>\n",
       "      <td>5.860000</td>\n",
       "      <td>0.100000</td>\n",
       "      <td>0.810000</td>\n",
       "      <td>55.000000</td>\n",
       "      <td>162.000000</td>\n",
       "      <td>181.650000</td>\n",
       "      <td>16.652500</td>\n",
       "      <td>2.083000</td>\n",
       "      <td>1.560000</td>\n",
       "      <td>0.532700</td>\n",
       "      <td>20.500000</td>\n",
       "      <td>0.75000</td>\n",
       "      <td>15.310000</td>\n",
       "    </tr>\n",
       "    <tr>\n",
       "      <th>75%</th>\n",
       "      <td>149.000000</td>\n",
       "      <td>2.0</td>\n",
       "      <td>7.000000</td>\n",
       "      <td>30.000000</td>\n",
       "      <td>9.846952e+09</td>\n",
       "      <td>6.300000</td>\n",
       "      <td>0.170000</td>\n",
       "      <td>1.090000</td>\n",
       "      <td>85.000000</td>\n",
       "      <td>224.550000</td>\n",
       "      <td>555.375000</td>\n",
       "      <td>29.005000</td>\n",
       "      <td>3.302500</td>\n",
       "      <td>3.572500</td>\n",
       "      <td>0.820000</td>\n",
       "      <td>47.320000</td>\n",
       "      <td>1.25000</td>\n",
       "      <td>27.110000</td>\n",
       "    </tr>\n",
       "    <tr>\n",
       "      <th>max</th>\n",
       "      <td>157.000000</td>\n",
       "      <td>2.0</td>\n",
       "      <td>9.000000</td>\n",
       "      <td>33.000000</td>\n",
       "      <td>9.995877e+09</td>\n",
       "      <td>9.900000</td>\n",
       "      <td>725.997200</td>\n",
       "      <td>3640.461050</td>\n",
       "      <td>471.000000</td>\n",
       "      <td>5863.000000</td>\n",
       "      <td>3787.500000</td>\n",
       "      <td>3041.000000</td>\n",
       "      <td>92.200000</td>\n",
       "      <td>111.800000</td>\n",
       "      <td>5.200000</td>\n",
       "      <td>911.300000</td>\n",
       "      <td>413.50000</td>\n",
       "      <td>694.900000</td>\n",
       "    </tr>\n",
       "  </tbody>\n",
       "</table>\n",
       "</div>"
      ],
      "text/plain": [
       "       f_panchayat  f_district      f_taluk      f_block      f_mob_no  \\\n",
       "count  4048.000000      4048.0  4048.000000  4048.000000  3.300000e+02   \n",
       "mean    122.177125         2.0     6.690217    24.579792  9.384199e+09   \n",
       "std      22.751969         0.0     0.737893     4.364429  9.849650e+08   \n",
       "min      84.000000         2.0     5.000000    18.000000  9.495645e+08   \n",
       "25%      98.000000         2.0     6.000000    20.000000  9.446369e+09   \n",
       "50%     116.000000         2.0     7.000000    23.000000  9.605574e+09   \n",
       "75%     149.000000         2.0     7.000000    30.000000  9.846952e+09   \n",
       "max     157.000000         2.0     9.000000    33.000000  9.995877e+09   \n",
       "\n",
       "           Soil_pH      Soil_ec  Soil_OrganicC       Soil_P       Soil_k  \\\n",
       "count  4048.000000  4050.000000    4050.000000  4048.000000  4048.000000   \n",
       "mean      5.846287     0.358561       1.797981    67.424614   192.167437   \n",
       "std       0.725837    11.415572      57.194304    51.812779   231.068588   \n",
       "min       0.900000     0.000000       0.000000     0.000000     0.000000   \n",
       "25%       5.360000     0.050000       0.546000    34.193750    95.000000   \n",
       "50%       5.860000     0.100000       0.810000    55.000000   162.000000   \n",
       "75%       6.300000     0.170000       1.090000    85.000000   224.550000   \n",
       "max       9.900000   725.997200    3640.461050   471.000000  5863.000000   \n",
       "\n",
       "           Soil_Ca      Soil_Mg       Soil_s      Soil_Zn       Soil_b  \\\n",
       "count  4048.000000  4048.000000  4048.000000  4048.000000  4048.000000   \n",
       "mean    417.904146    24.666415     3.363671     3.217135     0.528337   \n",
       "std     527.234144    54.907931     4.760118     5.389476     0.516771   \n",
       "min       0.000000     0.000000     0.000000     0.000000     0.000000   \n",
       "25%      98.230000    11.228750     1.260000     0.830000     0.100600   \n",
       "50%     181.650000    16.652500     2.083000     1.560000     0.532700   \n",
       "75%     555.375000    29.005000     3.302500     3.572500     0.820000   \n",
       "max    3787.500000  3041.000000    92.200000   111.800000     5.200000   \n",
       "\n",
       "           Soil_Fe     Soil_Cu      Soil_Mn  \n",
       "count  4048.000000  4048.00000  4048.000000  \n",
       "mean     49.656148     1.23289    22.079388  \n",
       "std      85.566393     6.73168    28.507297  \n",
       "min       0.000000     0.00000     0.000000  \n",
       "25%      11.800000     0.42000     7.597750  \n",
       "50%      20.500000     0.75000    15.310000  \n",
       "75%      47.320000     1.25000    27.110000  \n",
       "max     911.300000   413.50000   694.900000  "
      ]
     },
     "execution_count": 7,
     "metadata": {},
     "output_type": "execute_result"
    }
   ],
   "source": [
    "df.describe()"
   ]
  },
  {
   "cell_type": "code",
   "execution_count": 8,
   "metadata": {},
   "outputs": [],
   "source": [
    "df=df.dropna()"
   ]
  },
  {
   "cell_type": "code",
   "execution_count": 9,
   "metadata": {},
   "outputs": [
    {
     "data": {
      "text/plain": [
       "Ithikkara Block         176\n",
       "Chittumala Block         91\n",
       "Oachira Block            11\n",
       "Chavara Block            10\n",
       "Vettikkavala Block        4\n",
       "Paravoor MC               3\n",
       "Karunagappally Block      3\n",
       "Anchal Block              1\n",
       "Name: Block, dtype: int64"
      ]
     },
     "execution_count": 9,
     "metadata": {},
     "output_type": "execute_result"
    }
   ],
   "source": [
    "df.Block.value_counts()"
   ]
  },
  {
   "cell_type": "code",
   "execution_count": 10,
   "metadata": {},
   "outputs": [
    {
     "data": {
      "text/html": [
       "<div>\n",
       "<style scoped>\n",
       "    .dataframe tbody tr th:only-of-type {\n",
       "        vertical-align: middle;\n",
       "    }\n",
       "\n",
       "    .dataframe tbody tr th {\n",
       "        vertical-align: top;\n",
       "    }\n",
       "\n",
       "    .dataframe thead th {\n",
       "        text-align: right;\n",
       "    }\n",
       "</style>\n",
       "<table border=\"1\" class=\"dataframe\">\n",
       "  <thead>\n",
       "    <tr style=\"text-align: right;\">\n",
       "      <th></th>\n",
       "      <th>f_panchayat</th>\n",
       "      <th>f_district</th>\n",
       "      <th>f_taluk</th>\n",
       "      <th>f_block</th>\n",
       "      <th>f_mob_no</th>\n",
       "    </tr>\n",
       "  </thead>\n",
       "  <tbody>\n",
       "    <tr>\n",
       "      <th>20</th>\n",
       "      <td>84.0</td>\n",
       "      <td>2.0</td>\n",
       "      <td>9.0</td>\n",
       "      <td>18.0</td>\n",
       "      <td>9.048727e+09</td>\n",
       "    </tr>\n",
       "    <tr>\n",
       "      <th>1221</th>\n",
       "      <td>104.0</td>\n",
       "      <td>2.0</td>\n",
       "      <td>5.0</td>\n",
       "      <td>21.0</td>\n",
       "      <td>9.048787e+09</td>\n",
       "    </tr>\n",
       "    <tr>\n",
       "      <th>1222</th>\n",
       "      <td>104.0</td>\n",
       "      <td>2.0</td>\n",
       "      <td>5.0</td>\n",
       "      <td>21.0</td>\n",
       "      <td>9.605796e+09</td>\n",
       "    </tr>\n",
       "    <tr>\n",
       "      <th>1223</th>\n",
       "      <td>104.0</td>\n",
       "      <td>2.0</td>\n",
       "      <td>5.0</td>\n",
       "      <td>21.0</td>\n",
       "      <td>9.847162e+09</td>\n",
       "    </tr>\n",
       "    <tr>\n",
       "      <th>1224</th>\n",
       "      <td>104.0</td>\n",
       "      <td>2.0</td>\n",
       "      <td>5.0</td>\n",
       "      <td>21.0</td>\n",
       "      <td>9.947784e+09</td>\n",
       "    </tr>\n",
       "  </tbody>\n",
       "</table>\n",
       "</div>"
      ],
      "text/plain": [
       "      f_panchayat  f_district  f_taluk  f_block      f_mob_no\n",
       "20           84.0         2.0      9.0     18.0  9.048727e+09\n",
       "1221        104.0         2.0      5.0     21.0  9.048787e+09\n",
       "1222        104.0         2.0      5.0     21.0  9.605796e+09\n",
       "1223        104.0         2.0      5.0     21.0  9.847162e+09\n",
       "1224        104.0         2.0      5.0     21.0  9.947784e+09"
      ]
     },
     "execution_count": 10,
     "metadata": {},
     "output_type": "execute_result"
    }
   ],
   "source": [
    "df[['f_panchayat','f_district','f_taluk','f_block','f_mob_no']].head()"
   ]
  },
  {
   "cell_type": "markdown",
   "metadata": {},
   "source": [
    "# Soil columns seggregation"
   ]
  },
  {
   "cell_type": "code",
   "execution_count": 11,
   "metadata": {},
   "outputs": [],
   "source": [
    "\n",
    "soil_col=['Soil_pH','Soil_ec','Soil_OrganicC','Soil_P','Soil_k','Soil_Ca','Soil_Mg','Soil_s',\n",
    "          'Soil_Zn','Soil_b','Soil_Fe','Soil_Cu','Soil_Mn']"
   ]
  },
  {
   "cell_type": "markdown",
   "metadata": {},
   "source": [
    "# Methods columns seggregation"
   ]
  },
  {
   "cell_type": "code",
   "execution_count": 12,
   "metadata": {},
   "outputs": [],
   "source": [
    "methods_col=['Zinc_Method','Copper_Method','Iron_Method','Manganese_Method']"
   ]
  },
  {
   "cell_type": "markdown",
   "metadata": {},
   "source": [
    "# Farmer columns seggregation"
   ]
  },
  {
   "cell_type": "code",
   "execution_count": 13,
   "metadata": {},
   "outputs": [],
   "source": [
    "f_col=['FarmerName','ContactAddress','f_dateofsampling','f_sex', 'f_surveyno','f_latitude', 'f_longitude', 'f_ownership', 'f_ownername',\n",
    "       'f_panchayat', 'f_pincode', 'f_district', 'f_taluk', 'f_block','f_mob_no',]"
   ]
  },
  {
   "cell_type": "markdown",
   "metadata": {},
   "source": [
    "# Mean of soil column"
   ]
  },
  {
   "cell_type": "code",
   "execution_count": 14,
   "metadata": {},
   "outputs": [
    {
     "data": {
      "text/plain": [
       "Soil_pH            6.039298\n",
       "Soil_ec            0.149934\n",
       "Soil_OrganicC      1.105262\n",
       "Soil_P            79.597132\n",
       "Soil_k           250.880936\n",
       "Soil_Ca          930.906952\n",
       "Soil_Mg           27.636103\n",
       "Soil_s             3.850712\n",
       "Soil_Zn            4.638260\n",
       "Soil_b             0.168958\n",
       "Soil_Fe          109.325547\n",
       "Soil_Cu            1.422749\n",
       "Soil_Mn           30.031668\n",
       "dtype: float64"
      ]
     },
     "execution_count": 14,
     "metadata": {},
     "output_type": "execute_result"
    }
   ],
   "source": [
    "df[soil_col].mean()"
   ]
  },
  {
   "cell_type": "markdown",
   "metadata": {},
   "source": [
    "# Boxplot of pH in diff blocks"
   ]
  },
  {
   "cell_type": "code",
   "execution_count": 15,
   "metadata": {},
   "outputs": [
    {
     "data": {
      "text/plain": [
       "(array([0, 1, 2, 3, 4, 5, 6, 7]), <a list of 8 Text xticklabel objects>)"
      ]
     },
     "execution_count": 15,
     "metadata": {},
     "output_type": "execute_result"
    },
    {
     "data": {
      "image/png": "[encoded data removed]",
      "text/plain": [
       "<Figure size 720x360 with 1 Axes>"
      ]
     },
     "metadata": {
      "needs_background": "light"
     },
     "output_type": "display_data"
    }
   ],
   "source": [
    "\n",
    "plt.figure(figsize=(10,5))\n",
    "sns.boxplot(x='Block',y='Soil_pH',data=df)\n",
    "plt.title(\" pH in different blocks\")\n",
    "plt.xticks(rotation=75)"
   ]
  },
  {
   "cell_type": "markdown",
   "metadata": {},
   "source": [
    "# Boxplot of potassium in different blocks"
   ]
  },
  {
   "cell_type": "code",
   "execution_count": 16,
   "metadata": {},
   "outputs": [
    {
     "data": {
      "text/plain": [
       "(array([0, 1, 2, 3, 4, 5, 6, 7]), <a list of 8 Text xticklabel objects>)"
      ]
     },
     "execution_count": 16,
     "metadata": {},
     "output_type": "execute_result"
    },
    {
     "data": {
      "image/png": "[encoded data removed]",
      "text/plain": [
       "<Figure size 720x360 with 1 Axes>"
      ]
     },
     "metadata": {
      "needs_background": "light"
     },
     "output_type": "display_data"
    }
   ],
   "source": [
    "plt.figure(figsize=(10,5))\n",
    "sns.boxplot(x='Block',y='Soil_k',data=df)\n",
    "plt.title(\" potassium in different blocks\")\n",
    "plt.xticks(rotation=75)"
   ]
  },
  {
   "cell_type": "markdown",
   "metadata": {},
   "source": [
    "# Boxplot of calcium in different blocks"
   ]
  },
  {
   "cell_type": "code",
   "execution_count": 17,
   "metadata": {},
   "outputs": [
    {
     "data": {
      "text/plain": [
       "(array([0, 1, 2, 3, 4, 5, 6, 7]), <a list of 8 Text xticklabel objects>)"
      ]
     },
     "execution_count": 17,
     "metadata": {},
     "output_type": "execute_result"
    },
    {
     "data": {
      "image/png": "[encoded data removed]",
      "text/plain": [
       "<Figure size 720x360 with 1 Axes>"
      ]
     },
     "metadata": {
      "needs_background": "light"
     },
     "output_type": "display_data"
    }
   ],
   "source": [
    "plt.figure(figsize=(10,5))\n",
    "sns.boxplot(x='Block',y='Soil_Ca',data=df)\n",
    "plt.title(\"Calcium in different blocks\")\n",
    "plt.xticks(rotation=75)"
   ]
  },
  {
   "cell_type": "markdown",
   "metadata": {},
   "source": [
    "# Boxplot of manganese in different Blocks"
   ]
  },
  {
   "cell_type": "code",
   "execution_count": 18,
   "metadata": {},
   "outputs": [
    {
     "data": {
      "text/plain": [
       "Text(0.5, 1.0, 'Mangnese distribution')"
      ]
     },
     "execution_count": 18,
     "metadata": {},
     "output_type": "execute_result"
    },
    {
     "data": {
      "image/png": "[encoded data removed]",
      "text/plain": [
       "<Figure size 720x360 with 1 Axes>"
      ]
     },
     "metadata": {
      "needs_background": "light"
     },
     "output_type": "display_data"
    }
   ],
   "source": [
    "plt.figure(figsize=(10,5))\n",
    "sns.boxplot(x='Block',y='Soil_Mn',data=df)\n",
    "plt.xticks(rotation=65)\n",
    "plt.title('Mangnese distribution')"
   ]
  },
  {
   "cell_type": "markdown",
   "metadata": {},
   "source": [
    "# Heatmap of Blocks and soil distribution"
   ]
  },
  {
   "cell_type": "code",
   "execution_count": 19,
   "metadata": {},
   "outputs": [
    {
     "data": {
      "text/plain": [
       "<matplotlib.axes._subplots.AxesSubplot at 0x2038ed8c128>"
      ]
     },
     "execution_count": 19,
     "metadata": {},
     "output_type": "execute_result"
    },
    {
     "data": {
      "image/png": "[encoded data removed]",
      "text/plain": [
       "<Figure size 432x288 with 2 Axes>"
      ]
     },
     "metadata": {
      "needs_background": "light"
     },
     "output_type": "display_data"
    }
   ],
   "source": [
    "mean=df.groupby('Block')[soil_col].mean()\n",
    "sns.heatmap(mean,cmap=\"YlGnBu\")"
   ]
  },
  {
   "cell_type": "code",
   "execution_count": 20,
   "metadata": {},
   "outputs": [
    {
     "data": {
      "text/plain": [
       "<matplotlib.axes._subplots.AxesSubplot at 0x2038efac9e8>"
      ]
     },
     "execution_count": 20,
     "metadata": {},
     "output_type": "execute_result"
    },
    {
     "data": {
      "image/png": "[encoded data removed]",
      "text/plain": [
       "<Figure size 432x288 with 1 Axes>"
      ]
     },
     "metadata": {
      "needs_background": "light"
     },
     "output_type": "display_data"
    }
   ],
   "source": [
    "df['Block'].value_counts(normalize=True).plot(kind='Bar')"
   ]
  },
  {
   "cell_type": "code",
   "execution_count": 21,
   "metadata": {},
   "outputs": [],
   "source": [
    "\n",
    "from scipy import stats"
   ]
  },
  {
   "cell_type": "code",
   "execution_count": 30,
   "metadata": {},
   "outputs": [],
   "source": [
    "block_ph=df[['Block','Soil_pH']]"
   ]
  },
  {
   "cell_type": "code",
   "execution_count": 31,
   "metadata": {},
   "outputs": [
    {
     "data": {
      "text/html": [
       "<div>\n",
       "<style scoped>\n",
       "    .dataframe tbody tr th:only-of-type {\n",
       "        vertical-align: middle;\n",
       "    }\n",
       "\n",
       "    .dataframe tbody tr th {\n",
       "        vertical-align: top;\n",
       "    }\n",
       "\n",
       "    .dataframe thead th {\n",
       "        text-align: right;\n",
       "    }\n",
       "</style>\n",
       "<table border=\"1\" class=\"dataframe\">\n",
       "  <thead>\n",
       "    <tr style=\"text-align: right;\">\n",
       "      <th></th>\n",
       "      <th>Block</th>\n",
       "      <th>Soil_pH</th>\n",
       "    </tr>\n",
       "  </thead>\n",
       "  <tbody>\n",
       "    <tr>\n",
       "      <th>20</th>\n",
       "      <td>Anchal Block</td>\n",
       "      <td>5.07</td>\n",
       "    </tr>\n",
       "    <tr>\n",
       "      <th>1221</th>\n",
       "      <td>Chavara Block</td>\n",
       "      <td>6.03</td>\n",
       "    </tr>\n",
       "    <tr>\n",
       "      <th>1222</th>\n",
       "      <td>Chavara Block</td>\n",
       "      <td>6.61</td>\n",
       "    </tr>\n",
       "    <tr>\n",
       "      <th>1223</th>\n",
       "      <td>Chavara Block</td>\n",
       "      <td>6.16</td>\n",
       "    </tr>\n",
       "    <tr>\n",
       "      <th>1224</th>\n",
       "      <td>Chavara Block</td>\n",
       "      <td>6.07</td>\n",
       "    </tr>\n",
       "  </tbody>\n",
       "</table>\n",
       "</div>"
      ],
      "text/plain": [
       "              Block  Soil_pH\n",
       "20     Anchal Block     5.07\n",
       "1221  Chavara Block     6.03\n",
       "1222  Chavara Block     6.61\n",
       "1223  Chavara Block     6.16\n",
       "1224  Chavara Block     6.07"
      ]
     },
     "execution_count": 31,
     "metadata": {},
     "output_type": "execute_result"
    }
   ],
   "source": [
    "block_ph.head()"
   ]
  },
  {
   "cell_type": "code",
   "execution_count": 33,
   "metadata": {},
   "outputs": [
    {
     "data": {
      "text/plain": [
       "<matplotlib.axes._subplots.AxesSubplot at 0x2038e423a20>"
      ]
     },
     "execution_count": 33,
     "metadata": {},
     "output_type": "execute_result"
    },
    {
     "data": {
      "image/png": "[encoded data removed]",
      "text/plain": [
       "<Figure size 432x288 with 1 Axes>"
      ]
     },
     "metadata": {
      "needs_background": "light"
     },
     "output_type": "display_data"
    }
   ],
   "source": [
    "block_ph.groupby('Block')['Soil_pH'].mean().plot(kind='bar')"
   ]
  },
  {
   "cell_type": "code",
   "execution_count": 35,
   "metadata": {},
   "outputs": [],
   "source": [
    "block_ph=block_ph.groupby('Block')"
   ]
  },
  {
   "cell_type": "code",
   "execution_count": 36,
   "metadata": {},
   "outputs": [
    {
     "data": {
      "text/plain": [
       "Int64Index([20], dtype='int64')"
      ]
     },
     "execution_count": 36,
     "metadata": {},
     "output_type": "execute_result"
    }
   ],
   "source": [
    "\n",
    "block_ph.groups['Anchal Block']"
   ]
  },
  {
   "cell_type": "code",
   "execution_count": 37,
   "metadata": {},
   "outputs": [
    {
     "data": {
      "text/plain": [
       "Int64Index([3886, 3929, 3940], dtype='int64')"
      ]
     },
     "execution_count": 37,
     "metadata": {},
     "output_type": "execute_result"
    }
   ],
   "source": [
    "block_ph.groups['Paravoor MC']"
   ]
  },
  {
   "cell_type": "markdown",
   "metadata": {},
   "source": [
    "# One way annova \n",
    "Ho: The distribution of soil is same in all blocks\n",
    "Ha: is different in all blocks"
   ]
  },
  {
   "cell_type": "code",
   "execution_count": 38,
   "metadata": {},
   "outputs": [
    {
     "data": {
      "text/plain": [
       "F_onewayResult(statistic=619.6502149478434, pvalue=1.0062709944331959e-170)"
      ]
     },
     "execution_count": 38,
     "metadata": {},
     "output_type": "execute_result"
    }
   ],
   "source": [
    "stats.f_oneway(block_ph.groups['Anchal Block'],\n",
    "               block_ph.groups['Chavara Block'],\n",
    "               block_ph.groups['Chittumala Block'],\n",
    "               block_ph.groups['Ithikkara Block'],\n",
    "               block_ph.groups['Karunagappally Block'],\n",
    "               block_ph.groups['Oachira Block'],\n",
    "               block_ph.groups['Paravoor MC'],\n",
    "               block_ph.groups['Vettikkavala Block'])"
   ]
  },
  {
   "cell_type": "markdown",
   "metadata": {},
   "source": [
    "# As p value is less than 0.5 thus we reject null hypothesis"
   ]
  },
  {
   "cell_type": "code",
   "execution_count": 40,
   "metadata": {},
   "outputs": [],
   "source": [
    "\n",
    "group_ca=df[['Block','Soil_Ca']]\n",
    "block_ca=group_ca.groupby('Block')"
   ]
  },
  {
   "cell_type": "code",
   "execution_count": 41,
   "metadata": {},
   "outputs": [
    {
     "data": {
      "text/plain": [
       "F_onewayResult(statistic=619.6502149478434, pvalue=1.0062709944331959e-170)"
      ]
     },
     "execution_count": 41,
     "metadata": {},
     "output_type": "execute_result"
    }
   ],
   "source": [
    "stats.f_oneway(block_ca.groups['Anchal Block'],\n",
    "               block_ca.groups['Chavara Block'],\n",
    "               block_ca.groups['Chittumala Block'],\n",
    "               block_ca.groups['Ithikkara Block'],\n",
    "               block_ca.groups['Karunagappally Block'],\n",
    "               block_ca.groups['Oachira Block'],\n",
    "               block_ca.groups['Paravoor MC'],\n",
    "               block_ca.groups['Vettikkavala Block'])"
   ]
  },
  {
   "cell_type": "markdown",
   "metadata": {},
   "source": [
    "# As p value is less than 0.5 thus we reject null hypothesis"
   ]
  },
  {
   "cell_type": "code",
   "execution_count": 42,
   "metadata": {},
   "outputs": [],
   "source": [
    "group_k=df[['Block','Soil_k']]\n",
    "block_k=group_k.groupby('Block')"
   ]
  },
  {
   "cell_type": "code",
   "execution_count": 43,
   "metadata": {},
   "outputs": [
    {
     "data": {
      "text/plain": [
       "F_onewayResult(statistic=619.6502149478434, pvalue=1.0062709944331959e-170)"
      ]
     },
     "execution_count": 43,
     "metadata": {},
     "output_type": "execute_result"
    }
   ],
   "source": [
    "stats.f_oneway(block_k.groups['Anchal Block'],\n",
    "               block_k.groups['Chavara Block'],\n",
    "               block_k.groups['Chittumala Block'],\n",
    "               block_k.groups['Ithikkara Block'],\n",
    "               block_k.groups['Karunagappally Block'],\n",
    "               block_k.groups['Oachira Block'],\n",
    "               block_k.groups['Paravoor MC'],\n",
    "               block_k.groups['Vettikkavala Block'])"
   ]
  },
  {
   "cell_type": "markdown",
   "metadata": {},
   "source": [
    "# As p value is less than 0.5 thus we reject null hypothesis"
   ]
  },
  {
   "cell_type": "markdown",
   "metadata": {},
   "source": [
    "# ph Distribution in different panchayats"
   ]
  },
  {
   "cell_type": "code",
   "execution_count": 44,
   "metadata": {},
   "outputs": [
    {
     "data": {
      "text/plain": [
       "(array([ 0,  1,  2,  3,  4,  5,  6,  7,  8,  9, 10]),\n",
       " <a list of 11 Text xticklabel objects>)"
      ]
     },
     "execution_count": 44,
     "metadata": {},
     "output_type": "execute_result"
    },
    {
     "data": {
      "image/png": "[encoded data removed]",
      "text/plain": [
       "<Figure size 720x360 with 1 Axes>"
      ]
     },
     "metadata": {
      "needs_background": "light"
     },
     "output_type": "display_data"
    }
   ],
   "source": [
    "\n",
    "plt.figure(figsize=(10,5))\n",
    "sns.boxplot(x='Panchayath',y='Soil_pH',data=df)\n",
    "plt.title(\" pH in different Panchyats\")\n",
    "plt.xticks(rotation=75)"
   ]
  },
  {
   "cell_type": "markdown",
   "metadata": {},
   "source": [
    "# Potassiaum distribution in different panchayaths"
   ]
  },
  {
   "cell_type": "code",
   "execution_count": 45,
   "metadata": {},
   "outputs": [
    {
     "data": {
      "text/plain": [
       "(array([ 0,  1,  2,  3,  4,  5,  6,  7,  8,  9, 10]),\n",
       " <a list of 11 Text xticklabel objects>)"
      ]
     },
     "execution_count": 45,
     "metadata": {},
     "output_type": "execute_result"
    },
    {
     "data": {
      "image/png": "[encoded data removed]",
      "text/plain": [
       "<Figure size 720x360 with 1 Axes>"
      ]
     },
     "metadata": {
      "needs_background": "light"
     },
     "output_type": "display_data"
    }
   ],
   "source": [
    "plt.figure(figsize=(10,5))\n",
    "sns.boxplot(x='Panchayath',y='Soil_k',data=df)\n",
    "plt.title(\" potassium in different panchayaths\")\n",
    "plt.xticks(rotation=75)"
   ]
  },
  {
   "cell_type": "markdown",
   "metadata": {},
   "source": [
    "# Calcium distribution in different panchayaths"
   ]
  },
  {
   "cell_type": "code",
   "execution_count": 46,
   "metadata": {},
   "outputs": [
    {
     "data": {
      "text/plain": [
       "(array([ 0,  1,  2,  3,  4,  5,  6,  7,  8,  9, 10]),\n",
       " <a list of 11 Text xticklabel objects>)"
      ]
     },
     "execution_count": 46,
     "metadata": {},
     "output_type": "execute_result"
    },
    {
     "data": {
      "image/png": "[encoded data removed]",
      "text/plain": [
       "<Figure size 720x360 with 1 Axes>"
      ]
     },
     "metadata": {
      "needs_background": "light"
     },
     "output_type": "display_data"
    }
   ],
   "source": [
    "plt.figure(figsize=(10,5))\n",
    "sns.boxplot(x='Panchayath',y='Soil_Ca',data=df)\n",
    "plt.title(\"Calcium in different panchayaths\")\n",
    "plt.xticks(rotation=75)"
   ]
  },
  {
   "cell_type": "markdown",
   "metadata": {},
   "source": [
    "# Manganese distribution in different panchayaths"
   ]
  },
  {
   "cell_type": "code",
   "execution_count": 47,
   "metadata": {},
   "outputs": [
    {
     "data": {
      "text/plain": [
       "Text(0.5, 1.0, 'Mangnese distribution')"
      ]
     },
     "execution_count": 47,
     "metadata": {},
     "output_type": "execute_result"
    },
    {
     "data": {
      "image/png": "[encoded data removed]",
      "text/plain": [
       "<Figure size 720x360 with 1 Axes>"
      ]
     },
     "metadata": {
      "needs_background": "light"
     },
     "output_type": "display_data"
    }
   ],
   "source": [
    "plt.figure(figsize=(10,5))\n",
    "sns.boxplot(x='Panchayath',y='Soil_Mn',data=df)\n",
    "plt.xticks(rotation=65)\n",
    "plt.title('Mangnese distribution')"
   ]
  },
  {
   "cell_type": "code",
   "execution_count": 48,
   "metadata": {},
   "outputs": [
    {
     "data": {
      "text/plain": [
       "<matplotlib.axes._subplots.AxesSubplot at 0x20390a39160>"
      ]
     },
     "execution_count": 48,
     "metadata": {},
     "output_type": "execute_result"
    },
    {
     "data": {
      "image/png": "[encoded data removed]",
      "text/plain": [
       "<Figure size 432x288 with 1 Axes>"
      ]
     },
     "metadata": {
      "needs_background": "light"
     },
     "output_type": "display_data"
    }
   ],
   "source": [
    "df['Panchayath'].value_counts(normalize=True).plot(kind='Bar')"
   ]
  },
  {
   "cell_type": "code",
   "execution_count": 49,
   "metadata": {},
   "outputs": [
    {
     "data": {
      "text/plain": [
       "<matplotlib.axes._subplots.AxesSubplot at 0x20390af8cc0>"
      ]
     },
     "execution_count": 49,
     "metadata": {},
     "output_type": "execute_result"
    },
    {
     "data": {
      "image/png": "[encoded data removed]",
      "text/plain": [
       "<Figure size 432x288 with 2 Axes>"
      ]
     },
     "metadata": {
      "needs_background": "light"
     },
     "output_type": "display_data"
    }
   ],
   "source": [
    "mean=df.groupby('Panchayath')[soil_col].mean()\n",
    "sns.heatmap(mean,cmap=\"YlGnBu\")"
   ]
  },
  {
   "cell_type": "code",
   "execution_count": 50,
   "metadata": {},
   "outputs": [],
   "source": [
    "pan_ph=df[['Panchayath','Soil_pH']]"
   ]
  },
  {
   "cell_type": "code",
   "execution_count": 51,
   "metadata": {},
   "outputs": [
    {
     "data": {
      "text/html": [
       "<div>\n",
       "<style scoped>\n",
       "    .dataframe tbody tr th:only-of-type {\n",
       "        vertical-align: middle;\n",
       "    }\n",
       "\n",
       "    .dataframe tbody tr th {\n",
       "        vertical-align: top;\n",
       "    }\n",
       "\n",
       "    .dataframe thead th {\n",
       "        text-align: right;\n",
       "    }\n",
       "</style>\n",
       "<table border=\"1\" class=\"dataframe\">\n",
       "  <thead>\n",
       "    <tr style=\"text-align: right;\">\n",
       "      <th></th>\n",
       "      <th>Panchayath</th>\n",
       "      <th>Soil_pH</th>\n",
       "    </tr>\n",
       "  </thead>\n",
       "  <tbody>\n",
       "    <tr>\n",
       "      <th>20</th>\n",
       "      <td>Alayamon</td>\n",
       "      <td>5.07</td>\n",
       "    </tr>\n",
       "    <tr>\n",
       "      <th>1221</th>\n",
       "      <td>Panmana</td>\n",
       "      <td>6.03</td>\n",
       "    </tr>\n",
       "    <tr>\n",
       "      <th>1222</th>\n",
       "      <td>Panmana</td>\n",
       "      <td>6.61</td>\n",
       "    </tr>\n",
       "    <tr>\n",
       "      <th>1223</th>\n",
       "      <td>Panmana</td>\n",
       "      <td>6.16</td>\n",
       "    </tr>\n",
       "    <tr>\n",
       "      <th>1224</th>\n",
       "      <td>Panmana</td>\n",
       "      <td>6.07</td>\n",
       "    </tr>\n",
       "  </tbody>\n",
       "</table>\n",
       "</div>"
      ],
      "text/plain": [
       "     Panchayath  Soil_pH\n",
       "20     Alayamon     5.07\n",
       "1221    Panmana     6.03\n",
       "1222    Panmana     6.61\n",
       "1223    Panmana     6.16\n",
       "1224    Panmana     6.07"
      ]
     },
     "execution_count": 51,
     "metadata": {},
     "output_type": "execute_result"
    }
   ],
   "source": [
    "pan_ph.head()"
   ]
  },
  {
   "cell_type": "code",
   "execution_count": 52,
   "metadata": {},
   "outputs": [
    {
     "data": {
      "text/plain": [
       "<matplotlib.axes._subplots.AxesSubplot at 0x20390c116d8>"
      ]
     },
     "execution_count": 52,
     "metadata": {},
     "output_type": "execute_result"
    },
    {
     "data": {
      "image/png": "[encoded data removed]",
      "text/plain": [
       "<Figure size 432x288 with 1 Axes>"
      ]
     },
     "metadata": {
      "needs_background": "light"
     },
     "output_type": "display_data"
    }
   ],
   "source": [
    "pan_ph.groupby('Panchayath')['Soil_pH'].mean().plot(kind='bar')"
   ]
  },
  {
   "cell_type": "code",
   "execution_count": 55,
   "metadata": {},
   "outputs": [
    {
     "data": {
      "text/plain": [
       "Panayam           91\n",
       "Poothakkulam      80\n",
       "Kalluvathukkal    75\n",
       "Nedumbana         19\n",
       "Oachira           11\n",
       "Panmana           10\n",
       "Melila             4\n",
       "Alappad            3\n",
       "Paravoor MC        3\n",
       "Adichanelloor      2\n",
       "Alayamon           1\n",
       "Name: Panchayath, dtype: int64"
      ]
     },
     "execution_count": 55,
     "metadata": {},
     "output_type": "execute_result"
    }
   ],
   "source": [
    "df.Panchayath.value_counts()"
   ]
  },
  {
   "cell_type": "code",
   "execution_count": 53,
   "metadata": {},
   "outputs": [],
   "source": [
    "group1_ph=pan_ph.groupby('Panchayath')"
   ]
  },
  {
   "cell_type": "code",
   "execution_count": 54,
   "metadata": {},
   "outputs": [
    {
     "data": {
      "text/plain": [
       "<pandas.core.groupby.groupby.DataFrameGroupBy object at 0x0000020390C06F60>"
      ]
     },
     "execution_count": 54,
     "metadata": {},
     "output_type": "execute_result"
    }
   ],
   "source": [
    "group1_ph"
   ]
  },
  {
   "cell_type": "code",
   "execution_count": 60,
   "metadata": {},
   "outputs": [
    {
     "data": {
      "text/plain": [
       "F_onewayResult(statistic=4117.054406581179, pvalue=6.441490948739199e-291)"
      ]
     },
     "execution_count": 60,
     "metadata": {},
     "output_type": "execute_result"
    }
   ],
   "source": [
    "stats.f_oneway(group1_ph.groups['Panayam'],\n",
    "               group1_ph.groups['Poothakkulam'],\n",
    "               group1_ph.groups['Kalluvathukkal'],\n",
    "               group1_ph.groups['Nedumbana'],\n",
    "               group1_ph.groups['Oachira'],\n",
    "               group1_ph.groups['Melila'],\n",
    "               group1_ph.groups['Alappad'],group1_ph.groups['Paravoor MC'],group1_ph.groups['Adichanelloor'],group1_ph.groups['Alayamon'])"
   ]
  },
  {
   "cell_type": "markdown",
   "metadata": {},
   "source": [
    "# As p value is less than 0.5 we reject null hypothesis"
   ]
  },
  {
   "cell_type": "code",
   "execution_count": 61,
   "metadata": {},
   "outputs": [],
   "source": [
    "\n",
    "pan_ca=df[['Panchayath','Soil_Ca']]\n",
    "group1_ca=pan_ca.groupby('Panchayath')"
   ]
  },
  {
   "cell_type": "code",
   "execution_count": 62,
   "metadata": {},
   "outputs": [
    {
     "data": {
      "text/plain": [
       "F_onewayResult(statistic=4117.054406581179, pvalue=6.441490948739199e-291)"
      ]
     },
     "execution_count": 62,
     "metadata": {},
     "output_type": "execute_result"
    }
   ],
   "source": [
    "stats.f_oneway(group1_ca.groups['Panayam'],\n",
    "               group1_ca.groups['Poothakkulam'],\n",
    "               group1_ca.groups['Kalluvathukkal'],\n",
    "               group1_ca.groups['Nedumbana'],\n",
    "               group1_ca.groups['Oachira'],\n",
    "               group1_ca.groups['Melila'],\n",
    "               group1_ca.groups['Alappad'],group1_ca.groups['Paravoor MC'],group1_ca.groups['Adichanelloor'],group1_ca.groups['Alayamon'])"
   ]
  },
  {
   "cell_type": "markdown",
   "metadata": {},
   "source": [
    "# As p value is less than 0.5 thus we reject null hypothesis"
   ]
  },
  {
   "cell_type": "code",
   "execution_count": 63,
   "metadata": {},
   "outputs": [],
   "source": [
    "pan_k=df[['Panchayath','Soil_k']]\n",
    "group1_k=pan_k.groupby('Panchayath')"
   ]
  },
  {
   "cell_type": "code",
   "execution_count": 64,
   "metadata": {},
   "outputs": [
    {
     "data": {
      "text/plain": [
       "F_onewayResult(statistic=4117.054406581179, pvalue=6.441490948739199e-291)"
      ]
     },
     "execution_count": 64,
     "metadata": {},
     "output_type": "execute_result"
    }
   ],
   "source": [
    "stats.f_oneway(group1_k.groups['Panayam'],\n",
    "               group1_k.groups['Poothakkulam'],\n",
    "               group1_k.groups['Kalluvathukkal'],\n",
    "               group1_k.groups['Nedumbana'],\n",
    "               group1_k.groups['Oachira'],\n",
    "               group1_k.groups['Melila'],\n",
    "               group1_k.groups['Alappad'],group1_k.groups['Paravoor MC'],group1_k.groups['Adichanelloor'],group1_k.groups['Alayamon'])"
   ]
  },
  {
   "cell_type": "markdown",
   "metadata": {},
   "source": [
    "# As p value is less than 0.5 thus we reject null hypothesis"
   ]
  },
  {
   "cell_type": "markdown",
   "metadata": {},
   "source": [
    "# We conclude that soil distribution in different blocks and panchayaths is different as p value is coming less than 0.5"
   ]
  },
  {
   "cell_type": "code",
   "execution_count": 65,
   "metadata": {},
   "outputs": [
    {
     "data": {
      "text/plain": [
       "Ithikkara Block         176\n",
       "Chittumala Block         91\n",
       "Oachira Block            11\n",
       "Chavara Block            10\n",
       "Vettikkavala Block        4\n",
       "Paravoor MC               3\n",
       "Karunagappally Block      3\n",
       "Anchal Block              1\n",
       "Name: Block, dtype: int64"
      ]
     },
     "execution_count": 65,
     "metadata": {},
     "output_type": "execute_result"
    }
   ],
   "source": [
    "df.Block.value_counts()"
   ]
  },
  {
   "cell_type": "code",
   "execution_count": 66,
   "metadata": {},
   "outputs": [
    {
     "data": {
      "text/plain": [
       "(299, 33)"
      ]
     },
     "execution_count": 66,
     "metadata": {},
     "output_type": "execute_result"
    }
   ],
   "source": [
    "df.shape"
   ]
  },
  {
   "cell_type": "code",
   "execution_count": 67,
   "metadata": {},
   "outputs": [
    {
     "data": {
      "text/plain": [
       "Kollam    299\n",
       "Name: District, dtype: int64"
      ]
     },
     "execution_count": 67,
     "metadata": {},
     "output_type": "execute_result"
    }
   ],
   "source": [
    "df.District.value_counts()"
   ]
  },
  {
   "cell_type": "code",
   "execution_count": 68,
   "metadata": {},
   "outputs": [
    {
     "data": {
      "text/plain": [
       "Panayam           91\n",
       "Poothakkulam      80\n",
       "Kalluvathukkal    75\n",
       "Nedumbana         19\n",
       "Oachira           11\n",
       "Panmana           10\n",
       "Melila             4\n",
       "Alappad            3\n",
       "Paravoor MC        3\n",
       "Adichanelloor      2\n",
       "Alayamon           1\n",
       "Name: Panchayath, dtype: int64"
      ]
     },
     "execution_count": 68,
     "metadata": {},
     "output_type": "execute_result"
    }
   ],
   "source": [
    "df.Panchayath.value_counts()"
   ]
  },
  {
   "cell_type": "code",
   "execution_count": null,
   "metadata": {},
   "outputs": [],
   "source": []
  }
 ],
 "metadata": {
  "kernelspec": {
   "display_name": "Python 3",
   "language": "python",
   "name": "python3"
  },
  "language_info": {
   "codemirror_mode": {
    "name": "ipython",
    "version": 3
   },
   "file_extension": ".py",
   "mimetype": "text/x-python",
   "name": "python",
   "nbconvert_exporter": "python",
   "pygments_lexer": "ipython3",
   "version": "3.7.1"
  }
 },
 "nbformat": 4,
 "nbformat_minor": 2
}
